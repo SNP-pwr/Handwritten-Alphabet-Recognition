{
  "cells": [
    {
      "cell_type": "markdown",
      "metadata": {
        "id": "-rZXLBke_A-8"
      },
      "source": [
        "# Importowanie bibliotek"
      ]
    },
    {
      "cell_type": "code",
      "execution_count": 3,
      "metadata": {
        "id": "gz0Nn6ba_A-_"
      },
      "outputs": [],
      "source": [
        "# import keras\n",
        "# import numpy as np\n",
        "# import tensorflow as tf\n",
        "# import matplotlib as plt\n",
        "# import sklearn\n",
        "\n",
        "import pandas as pd\n",
        "from sklearn.utils import shuffle\n",
        "from sklearn.model_selection import train_test_split\n",
        "from keras.utils import to_categorical\n",
        "from keras.models import Sequential\n",
        "from keras.layers import Dense, Flatten, Conv2D, MaxPool2D, Dropout\n",
        "from keras import layers\n",
        "from keras.optimizers import SGD, Adam\n",
        "import numpy as np\n",
        "import matplotlib.pyplot as plt\n",
        "from imblearn.under_sampling import NearMiss"
      ]
    },
    {
      "cell_type": "markdown",
      "metadata": {
        "id": "k7BmOZRc_A_A"
      },
      "source": [
        "# Wczytujemy zbiór danych\n"
      ]
    },
    {
      "cell_type": "code",
      "execution_count": 4,
      "metadata": {
        "execution": {
          "iopub.execute_input": "2021-09-03T22:56:10.95061Z",
          "iopub.status.busy": "2021-09-03T22:56:10.950237Z",
          "iopub.status.idle": "2021-09-03T22:56:48.135888Z",
          "shell.execute_reply": "2021-09-03T22:56:48.134874Z",
          "shell.execute_reply.started": "2021-09-03T22:56:10.950573Z"
        },
        "colab": {
          "base_uri": "https://localhost:8080/",
          "height": 236
        },
        "id": "gVXEMzgH_A_B",
        "outputId": "3bd436c4-e308-48fb-e845-96a244fd9fc3"
      },
      "outputs": [
        {
          "output_type": "execute_result",
          "data": {
            "text/plain": [
              "     0  0.1  0.2  0.3  0.4  0.5  0.6  0.7  0.8  0.9  ...  0.639  0.640  0.641  \\\n",
              "0  0.0  0.0  0.0  0.0  0.0  0.0  0.0  0.0  0.0  0.0  ...    0.0    0.0    0.0   \n",
              "1  0.0  0.0  0.0  0.0  0.0  0.0  0.0  0.0  0.0  0.0  ...    0.0    0.0    0.0   \n",
              "2  0.0  0.0  0.0  0.0  0.0  0.0  0.0  0.0  0.0  0.0  ...    0.0    0.0    0.0   \n",
              "3  0.0  0.0  0.0  0.0  0.0  0.0  0.0  0.0  0.0  0.0  ...    0.0    0.0    0.0   \n",
              "4  0.0  0.0  0.0  0.0  0.0  0.0  0.0  0.0  0.0  0.0  ...    0.0    0.0    0.0   \n",
              "\n",
              "   0.642  0.643  0.644  0.645  0.646  0.647  0.648  \n",
              "0    0.0    0.0    0.0    0.0    0.0    0.0    0.0  \n",
              "1    0.0    0.0    0.0    0.0    0.0    0.0    0.0  \n",
              "2    0.0    0.0    0.0    0.0    0.0    0.0    0.0  \n",
              "3    0.0    0.0    0.0    0.0    0.0    0.0    0.0  \n",
              "4    0.0    0.0    0.0    0.0    0.0    0.0    0.0  \n",
              "\n",
              "[5 rows x 785 columns]"
            ],
            "text/html": [
              "\n",
              "  <div id=\"df-5abc9a5f-812c-42eb-a4a0-6812df457fde\">\n",
              "    <div class=\"colab-df-container\">\n",
              "      <div>\n",
              "<style scoped>\n",
              "    .dataframe tbody tr th:only-of-type {\n",
              "        vertical-align: middle;\n",
              "    }\n",
              "\n",
              "    .dataframe tbody tr th {\n",
              "        vertical-align: top;\n",
              "    }\n",
              "\n",
              "    .dataframe thead th {\n",
              "        text-align: right;\n",
              "    }\n",
              "</style>\n",
              "<table border=\"1\" class=\"dataframe\">\n",
              "  <thead>\n",
              "    <tr style=\"text-align: right;\">\n",
              "      <th></th>\n",
              "      <th>0</th>\n",
              "      <th>0.1</th>\n",
              "      <th>0.2</th>\n",
              "      <th>0.3</th>\n",
              "      <th>0.4</th>\n",
              "      <th>0.5</th>\n",
              "      <th>0.6</th>\n",
              "      <th>0.7</th>\n",
              "      <th>0.8</th>\n",
              "      <th>0.9</th>\n",
              "      <th>...</th>\n",
              "      <th>0.639</th>\n",
              "      <th>0.640</th>\n",
              "      <th>0.641</th>\n",
              "      <th>0.642</th>\n",
              "      <th>0.643</th>\n",
              "      <th>0.644</th>\n",
              "      <th>0.645</th>\n",
              "      <th>0.646</th>\n",
              "      <th>0.647</th>\n",
              "      <th>0.648</th>\n",
              "    </tr>\n",
              "  </thead>\n",
              "  <tbody>\n",
              "    <tr>\n",
              "      <th>0</th>\n",
              "      <td>0.0</td>\n",
              "      <td>0.0</td>\n",
              "      <td>0.0</td>\n",
              "      <td>0.0</td>\n",
              "      <td>0.0</td>\n",
              "      <td>0.0</td>\n",
              "      <td>0.0</td>\n",
              "      <td>0.0</td>\n",
              "      <td>0.0</td>\n",
              "      <td>0.0</td>\n",
              "      <td>...</td>\n",
              "      <td>0.0</td>\n",
              "      <td>0.0</td>\n",
              "      <td>0.0</td>\n",
              "      <td>0.0</td>\n",
              "      <td>0.0</td>\n",
              "      <td>0.0</td>\n",
              "      <td>0.0</td>\n",
              "      <td>0.0</td>\n",
              "      <td>0.0</td>\n",
              "      <td>0.0</td>\n",
              "    </tr>\n",
              "    <tr>\n",
              "      <th>1</th>\n",
              "      <td>0.0</td>\n",
              "      <td>0.0</td>\n",
              "      <td>0.0</td>\n",
              "      <td>0.0</td>\n",
              "      <td>0.0</td>\n",
              "      <td>0.0</td>\n",
              "      <td>0.0</td>\n",
              "      <td>0.0</td>\n",
              "      <td>0.0</td>\n",
              "      <td>0.0</td>\n",
              "      <td>...</td>\n",
              "      <td>0.0</td>\n",
              "      <td>0.0</td>\n",
              "      <td>0.0</td>\n",
              "      <td>0.0</td>\n",
              "      <td>0.0</td>\n",
              "      <td>0.0</td>\n",
              "      <td>0.0</td>\n",
              "      <td>0.0</td>\n",
              "      <td>0.0</td>\n",
              "      <td>0.0</td>\n",
              "    </tr>\n",
              "    <tr>\n",
              "      <th>2</th>\n",
              "      <td>0.0</td>\n",
              "      <td>0.0</td>\n",
              "      <td>0.0</td>\n",
              "      <td>0.0</td>\n",
              "      <td>0.0</td>\n",
              "      <td>0.0</td>\n",
              "      <td>0.0</td>\n",
              "      <td>0.0</td>\n",
              "      <td>0.0</td>\n",
              "      <td>0.0</td>\n",
              "      <td>...</td>\n",
              "      <td>0.0</td>\n",
              "      <td>0.0</td>\n",
              "      <td>0.0</td>\n",
              "      <td>0.0</td>\n",
              "      <td>0.0</td>\n",
              "      <td>0.0</td>\n",
              "      <td>0.0</td>\n",
              "      <td>0.0</td>\n",
              "      <td>0.0</td>\n",
              "      <td>0.0</td>\n",
              "    </tr>\n",
              "    <tr>\n",
              "      <th>3</th>\n",
              "      <td>0.0</td>\n",
              "      <td>0.0</td>\n",
              "      <td>0.0</td>\n",
              "      <td>0.0</td>\n",
              "      <td>0.0</td>\n",
              "      <td>0.0</td>\n",
              "      <td>0.0</td>\n",
              "      <td>0.0</td>\n",
              "      <td>0.0</td>\n",
              "      <td>0.0</td>\n",
              "      <td>...</td>\n",
              "      <td>0.0</td>\n",
              "      <td>0.0</td>\n",
              "      <td>0.0</td>\n",
              "      <td>0.0</td>\n",
              "      <td>0.0</td>\n",
              "      <td>0.0</td>\n",
              "      <td>0.0</td>\n",
              "      <td>0.0</td>\n",
              "      <td>0.0</td>\n",
              "      <td>0.0</td>\n",
              "    </tr>\n",
              "    <tr>\n",
              "      <th>4</th>\n",
              "      <td>0.0</td>\n",
              "      <td>0.0</td>\n",
              "      <td>0.0</td>\n",
              "      <td>0.0</td>\n",
              "      <td>0.0</td>\n",
              "      <td>0.0</td>\n",
              "      <td>0.0</td>\n",
              "      <td>0.0</td>\n",
              "      <td>0.0</td>\n",
              "      <td>0.0</td>\n",
              "      <td>...</td>\n",
              "      <td>0.0</td>\n",
              "      <td>0.0</td>\n",
              "      <td>0.0</td>\n",
              "      <td>0.0</td>\n",
              "      <td>0.0</td>\n",
              "      <td>0.0</td>\n",
              "      <td>0.0</td>\n",
              "      <td>0.0</td>\n",
              "      <td>0.0</td>\n",
              "      <td>0.0</td>\n",
              "    </tr>\n",
              "  </tbody>\n",
              "</table>\n",
              "<p>5 rows × 785 columns</p>\n",
              "</div>\n",
              "      <button class=\"colab-df-convert\" onclick=\"convertToInteractive('df-5abc9a5f-812c-42eb-a4a0-6812df457fde')\"\n",
              "              title=\"Convert this dataframe to an interactive table.\"\n",
              "              style=\"display:none;\">\n",
              "        \n",
              "  <svg xmlns=\"http://www.w3.org/2000/svg\" height=\"24px\"viewBox=\"0 0 24 24\"\n",
              "       width=\"24px\">\n",
              "    <path d=\"M0 0h24v24H0V0z\" fill=\"none\"/>\n",
              "    <path d=\"M18.56 5.44l.94 2.06.94-2.06 2.06-.94-2.06-.94-.94-2.06-.94 2.06-2.06.94zm-11 1L8.5 8.5l.94-2.06 2.06-.94-2.06-.94L8.5 2.5l-.94 2.06-2.06.94zm10 10l.94 2.06.94-2.06 2.06-.94-2.06-.94-.94-2.06-.94 2.06-2.06.94z\"/><path d=\"M17.41 7.96l-1.37-1.37c-.4-.4-.92-.59-1.43-.59-.52 0-1.04.2-1.43.59L10.3 9.45l-7.72 7.72c-.78.78-.78 2.05 0 2.83L4 21.41c.39.39.9.59 1.41.59.51 0 1.02-.2 1.41-.59l7.78-7.78 2.81-2.81c.8-.78.8-2.07 0-2.86zM5.41 20L4 18.59l7.72-7.72 1.47 1.35L5.41 20z\"/>\n",
              "  </svg>\n",
              "      </button>\n",
              "      \n",
              "  <style>\n",
              "    .colab-df-container {\n",
              "      display:flex;\n",
              "      flex-wrap:wrap;\n",
              "      gap: 12px;\n",
              "    }\n",
              "\n",
              "    .colab-df-convert {\n",
              "      background-color: #E8F0FE;\n",
              "      border: none;\n",
              "      border-radius: 50%;\n",
              "      cursor: pointer;\n",
              "      display: none;\n",
              "      fill: #1967D2;\n",
              "      height: 32px;\n",
              "      padding: 0 0 0 0;\n",
              "      width: 32px;\n",
              "    }\n",
              "\n",
              "    .colab-df-convert:hover {\n",
              "      background-color: #E2EBFA;\n",
              "      box-shadow: 0px 1px 2px rgba(60, 64, 67, 0.3), 0px 1px 3px 1px rgba(60, 64, 67, 0.15);\n",
              "      fill: #174EA6;\n",
              "    }\n",
              "\n",
              "    [theme=dark] .colab-df-convert {\n",
              "      background-color: #3B4455;\n",
              "      fill: #D2E3FC;\n",
              "    }\n",
              "\n",
              "    [theme=dark] .colab-df-convert:hover {\n",
              "      background-color: #434B5C;\n",
              "      box-shadow: 0px 1px 3px 1px rgba(0, 0, 0, 0.15);\n",
              "      filter: drop-shadow(0px 1px 2px rgba(0, 0, 0, 0.3));\n",
              "      fill: #FFFFFF;\n",
              "    }\n",
              "  </style>\n",
              "\n",
              "      <script>\n",
              "        const buttonEl =\n",
              "          document.querySelector('#df-5abc9a5f-812c-42eb-a4a0-6812df457fde button.colab-df-convert');\n",
              "        buttonEl.style.display =\n",
              "          google.colab.kernel.accessAllowed ? 'block' : 'none';\n",
              "\n",
              "        async function convertToInteractive(key) {\n",
              "          const element = document.querySelector('#df-5abc9a5f-812c-42eb-a4a0-6812df457fde');\n",
              "          const dataTable =\n",
              "            await google.colab.kernel.invokeFunction('convertToInteractive',\n",
              "                                                     [key], {});\n",
              "          if (!dataTable) return;\n",
              "\n",
              "          const docLinkHtml = 'Like what you see? Visit the ' +\n",
              "            '<a target=\"_blank\" href=https://colab.research.google.com/notebooks/data_table.ipynb>data table notebook</a>'\n",
              "            + ' to learn more about interactive tables.';\n",
              "          element.innerHTML = '';\n",
              "          dataTable['output_type'] = 'display_data';\n",
              "          await google.colab.output.renderOutput(dataTable, element);\n",
              "          const docLink = document.createElement('div');\n",
              "          docLink.innerHTML = docLinkHtml;\n",
              "          element.appendChild(docLink);\n",
              "        }\n",
              "      </script>\n",
              "    </div>\n",
              "  </div>\n",
              "  "
            ]
          },
          "metadata": {},
          "execution_count": 4
        }
      ],
      "source": [
        "data = pd.read_csv(\"A_Z Handwritten Data.csv\").astype('float32')\n",
        "data.head()"
      ]
    },
    {
      "cell_type": "markdown",
      "metadata": {
        "id": "spo-jadD_A_C"
      },
      "source": [
        "# Odzielanie etykiet od obrazu"
      ]
    },
    {
      "cell_type": "code",
      "execution_count": 5,
      "metadata": {
        "execution": {
          "iopub.execute_input": "2021-09-03T22:59:58.613134Z",
          "iopub.status.busy": "2021-09-03T22:59:58.612701Z",
          "iopub.status.idle": "2021-09-03T22:59:59.219976Z",
          "shell.execute_reply": "2021-09-03T22:59:59.219039Z",
          "shell.execute_reply.started": "2021-09-03T22:59:58.613102Z"
        },
        "colab": {
          "base_uri": "https://localhost:8080/"
        },
        "id": "4h2nA5wI_A_C",
        "outputId": "3123ff1a-3b8e-4be2-f9b8-0492e1e5540d"
      },
      "outputs": [
        {
          "output_type": "execute_result",
          "data": {
            "text/plain": [
              "0    0.0\n",
              "1    0.0\n",
              "2    0.0\n",
              "3    0.0\n",
              "4    0.0\n",
              "Name: 0, dtype: float32"
            ]
          },
          "metadata": {},
          "execution_count": 5
        }
      ],
      "source": [
        "X = data.drop('0',axis = 1)\n",
        "y = data['0']\n",
        "X.head()\n",
        "y.head()"
      ]
    },
    {
      "cell_type": "markdown",
      "metadata": {
        "id": "mWqELrZQ_A_C"
      },
      "source": [
        "# Reshapowanie danych testowych i treningowych do standardów CNN"
      ]
    },
    {
      "cell_type": "code",
      "execution_count": 6,
      "metadata": {
        "execution": {
          "iopub.execute_input": "2021-09-03T23:03:55.789789Z",
          "iopub.status.busy": "2021-09-03T23:03:55.789318Z",
          "iopub.status.idle": "2021-09-03T23:03:58.384025Z",
          "shell.execute_reply": "2021-09-03T23:03:58.382813Z",
          "shell.execute_reply.started": "2021-09-03T23:03:55.789746Z"
        },
        "colab": {
          "base_uri": "https://localhost:8080/"
        },
        "id": "61JcT4pn_A_D",
        "outputId": "182e3165-980b-421c-cf23-1db1a7ea27ba"
      },
      "outputs": [
        {
          "output_type": "stream",
          "name": "stdout",
          "text": [
            "Wymiary treningowe przed reshapem:  (23296, 784)\n",
            "Wymiary testowe przed reshapem:  (5824, 784)\n",
            "Wymiary treningowe po reshapem:  (23296, 28, 28, 1)\n",
            "Wymiary testowe po reshapie:  (5824, 28, 28, 1)\n"
          ]
        }
      ],
      "source": [
        "nM = NearMiss()\n",
        "X, y = nM.fit_resample(X, y)\n",
        "\n",
        "X_train, X_test, Y_train, Y_test = train_test_split(X, y, test_size = 0.2)\n",
        "\n",
        "print(\"Wymiary treningowe przed reshapem: \", X_train.shape)\n",
        "print(\"Wymiary testowe przed reshapem: \", X_test.shape)\n",
        "\n",
        "X_train = np.reshape(X_train.values, (X_train.shape[0], 28, 28, 1))\n",
        "X_test = np.reshape(X_test.values, (X_test.shape[0], 28, 28, 1))\n",
        "\n",
        "print(\"Wymiary treningowe po reshapem: \", X_train.shape)\n",
        "print(\"Wymiary testowe po reshapie: \", X_test.shape)\n"
      ]
    },
    {
      "cell_type": "markdown",
      "metadata": {
        "id": "ZOCbgPvc_A_E"
      },
      "source": [
        "# Stworzenie słownika"
      ]
    },
    {
      "cell_type": "code",
      "execution_count": 7,
      "metadata": {
        "execution": {
          "iopub.execute_input": "2021-09-03T23:05:37.699759Z",
          "iopub.status.busy": "2021-09-03T23:05:37.699342Z",
          "iopub.status.idle": "2021-09-03T23:05:37.706784Z",
          "shell.execute_reply": "2021-09-03T23:05:37.705639Z",
          "shell.execute_reply.started": "2021-09-03T23:05:37.699723Z"
        },
        "id": "gEUPMQ3A_A_E"
      },
      "outputs": [],
      "source": [
        "word_dict = {0:'A',1:'B',2:'C',3:'D',4:'E',5:'F',6:'G',7:'H',8:'I',9:'J',10:'K',11:'L',12:'M',13:'N',14:'O',15:'P',16:'Q',17:'R',18:'S',19:'T',20:'U',21:'V',22:'W',23:'X', 24:'Y',25:'Z'}"
      ]
    },
    {
      "cell_type": "markdown",
      "metadata": {
        "id": "0eIM-nu3_A_F"
      },
      "source": [
        "# Zamiana etykiety z pojedńczej liczby na wektor."
      ]
    },
    {
      "cell_type": "code",
      "execution_count": 8,
      "metadata": {
        "execution": {
          "iopub.execute_input": "2021-09-03T23:23:54.565813Z",
          "iopub.status.busy": "2021-09-03T23:23:54.56522Z",
          "iopub.status.idle": "2021-09-03T23:23:54.752915Z",
          "shell.execute_reply": "2021-09-03T23:23:54.751731Z",
          "shell.execute_reply.started": "2021-09-03T23:23:54.56575Z"
        },
        "colab": {
          "base_uri": "https://localhost:8080/"
        },
        "id": "Fpr9mMwb_A_F",
        "outputId": "93ae9064-dee0-42bd-8b4e-56014f2fd44a"
      },
      "outputs": [
        {
          "output_type": "stream",
          "name": "stdout",
          "text": [
            "Nowy rozmiar etykiety treningowej:  (23296, 26)\n",
            "Nowy rozmiar etykiety treningowej:  (5824, 26)\n"
          ]
        }
      ],
      "source": [
        "train_yOHE = to_categorical(Y_train, num_classes = 26, dtype='int')\n",
        "print(\"Nowy rozmiar etykiety treningowej: \", train_yOHE.shape)\n",
        "\n",
        "test_yOHE = to_categorical(Y_test, num_classes = 26, dtype='int')\n",
        "print(\"Nowy rozmiar etykiety treningowej: \", test_yOHE.shape)"
      ]
    },
    {
      "cell_type": "markdown",
      "metadata": {
        "id": "FSF2hs1H_A_F"
      },
      "source": [
        "# Tworzenie CNN"
      ]
    },
    {
      "cell_type": "code",
      "execution_count": 9,
      "metadata": {
        "execution": {
          "iopub.execute_input": "2021-09-03T23:29:14.489705Z",
          "iopub.status.busy": "2021-09-03T23:29:14.489291Z",
          "iopub.status.idle": "2021-09-03T23:29:14.667035Z",
          "shell.execute_reply": "2021-09-03T23:29:14.666001Z",
          "shell.execute_reply.started": "2021-09-03T23:29:14.489672Z"
        },
        "id": "tRwbNYmK_A_G"
      },
      "outputs": [],
      "source": [
        "model = Sequential()\n",
        "#CNN\n",
        "# input -> conv -> maxpool -> conv -> maxpool ......->flattened vector-> \n",
        "#.                        hidden layer -> hidden layer -> softmax layer\n",
        "\n",
        "#Wyciągamy cechy z obrazu, a następnie zmniejszamy jego rozmiar czterokrotnie. Filtry zwiększają się dwukrotnie, bo zapisujemy\n",
        "#z każdym krokiem więcej cech.\n",
        "model.add(Conv2D(filters=32, kernel_size=(3, 3), activation='relu', input_shape=(28,28,1)))\n",
        "model.add(MaxPool2D(pool_size=(2, 2), strides=2))\n",
        "\n",
        "model.add(Conv2D(filters=64, kernel_size=(3, 3), activation='relu', padding = 'same'))\n",
        "# model.add(MaxPooling2D(pool_size=(2, 2), strides=2))\n",
        "\n",
        "model.add(Conv2D(filters=128, kernel_size=(3, 3), activation='relu', padding = 'same'))\n",
        "# model.add(MaxPooling2D(pool_size=(2, 2), strides=2))\n",
        "model.add(Dropout(0.2))\n",
        "model.add(Conv2D(filters=256, kernel_size=(3, 3), activation='relu', padding = 'same'))\n",
        "model.add(MaxPool2D(pool_size=(2, 2), strides=2))\n",
        "\n",
        "model.add(Flatten())\n",
        "\n",
        "model.add(Dense(128,activation =\"relu\"))\n",
        "model.add(Dropout(0.2))\n",
        "model.add(Dense(256,activation =\"relu\"))\n",
        "\n",
        "model.add(Dense(26,activation =\"softmax\"))\n",
        "\n",
        "imageAug = Sequential([\n",
        "    layers.RandomZoom(height_factor=(-0.3, 0.3), width_factor=(-0.3, 0.3)),\n",
        "    layers.RandomRotation(0.4)])\n",
        "\n",
        "for i in range(len(X_train)):\n",
        "  X_train[i] = imageAug(X_train[i])\n"
      ]
    },
    {
      "cell_type": "markdown",
      "metadata": {
        "id": "UfV80vVH_A_G"
      },
      "source": [
        "# Kompilacja i trening CNN"
      ]
    },
    {
      "cell_type": "code",
      "execution_count": null,
      "metadata": {
        "execution": {
          "iopub.execute_input": "2021-09-03T23:30:04.679896Z",
          "iopub.status.busy": "2021-09-03T23:30:04.679472Z",
          "iopub.status.idle": "2021-09-03T23:34:03.824706Z",
          "shell.execute_reply": "2021-09-03T23:34:03.823212Z",
          "shell.execute_reply.started": "2021-09-03T23:30:04.679859Z"
        },
        "colab": {
          "base_uri": "https://localhost:8080/"
        },
        "id": "vPLylbIB_A_G",
        "outputId": "10a77a54-c800-4f9f-ce1a-82723c04ce70"
      },
      "outputs": [
        {
          "output_type": "stream",
          "name": "stdout",
          "text": [
            "Epoch 1/10\n",
            " 47/182 [======>.......................] - ETA: 2:57 - loss: 2.5298 - accuracy: 0.3672"
          ]
        }
      ],
      "source": [
        "model.compile(optimizer = Adam(learning_rate=0.01), loss='categorical_crossentropy', metrics=['accuracy'])\n",
        "\n",
        "history = model.fit(X_train, train_yOHE, epochs=10,  batch_size=128, validation_data = (X_test,test_yOHE))"
      ]
    },
    {
      "cell_type": "markdown",
      "metadata": {
        "id": "5CfKxUX1_A_H"
      },
      "source": [
        "# Zapis model i jego spis"
      ]
    },
    {
      "cell_type": "code",
      "execution_count": null,
      "metadata": {
        "execution": {
          "iopub.execute_input": "2021-09-03T23:35:07.72437Z",
          "iopub.status.busy": "2021-09-03T23:35:07.723587Z",
          "iopub.status.idle": "2021-09-03T23:35:07.823704Z",
          "shell.execute_reply": "2021-09-03T23:35:07.822256Z",
          "shell.execute_reply.started": "2021-09-03T23:35:07.724289Z"
        },
        "id": "yt7oRG0h_A_H",
        "outputId": "d3abe996-9ca6-4a42-8c42-1829b3eb37a3"
      },
      "outputs": [
        {
          "name": "stdout",
          "output_type": "stream",
          "text": [
            "Model: \"sequential_1\"\n",
            "_________________________________________________________________\n",
            " Layer (type)                Output Shape              Param #   \n",
            "=================================================================\n",
            " conv2d_3 (Conv2D)           (None, 26, 26, 32)        320       \n",
            "                                                                 \n",
            " max_pooling2d_3 (MaxPooling  (None, 13, 13, 32)       0         \n",
            " 2D)                                                             \n",
            "                                                                 \n",
            " conv2d_4 (Conv2D)           (None, 13, 13, 64)        18496     \n",
            "                                                                 \n",
            " max_pooling2d_4 (MaxPooling  (None, 6, 6, 64)         0         \n",
            " 2D)                                                             \n",
            "                                                                 \n",
            " flatten_1 (Flatten)         (None, 2304)              0         \n",
            "                                                                 \n",
            " dense_3 (Dense)             (None, 64)                147520    \n",
            "                                                                 \n",
            " dense_4 (Dense)             (None, 128)               8320      \n",
            "                                                                 \n",
            " dense_5 (Dense)             (None, 26)                3354      \n",
            "                                                                 \n",
            "=================================================================\n",
            "Total params: 178,010\n",
            "Trainable params: 178,010\n",
            "Non-trainable params: 0\n",
            "_________________________________________________________________\n"
          ]
        }
      ],
      "source": [
        "model.summary()\n",
        "model.save(r'model_hand2.h5')"
      ]
    },
    {
      "cell_type": "code",
      "execution_count": null,
      "metadata": {
        "execution": {
          "iopub.execute_input": "2021-09-03T23:35:40.723653Z",
          "iopub.status.busy": "2021-09-03T23:35:40.723278Z",
          "iopub.status.idle": "2021-09-03T23:35:40.73372Z",
          "shell.execute_reply": "2021-09-03T23:35:40.731974Z",
          "shell.execute_reply.started": "2021-09-03T23:35:40.723615Z"
        },
        "id": "qlGMjyxv_A_H",
        "outputId": "bc13e045-bbd3-4a9e-e580-8535a86a8732"
      },
      "outputs": [
        {
          "name": "stdout",
          "output_type": "stream",
          "text": [
            "Dokładność predykcji na zbiorze walidacyjnym wynosi : [0.9848436117172241, 0.986374020576477, 0.9859444499015808, 0.9841321110725403, 0.9848570227622986]\n",
            "Dokładność predykcji na zbiorze treningowym wynosi: [0.9866156578063965, 0.9872230887413025, 0.9877634644508362, 0.9880118370056152, 0.9879010319709778]\n",
            "Strata na zbiorze walidacyjnym : [0.06463632732629776, 0.06621440500020981, 0.0642656683921814, 0.07897284626960754, 0.07789570838212967]\n",
            "Strata na zbiorze treningowym : [0.05313950777053833, 0.05218150094151497, 0.05057717114686966, 0.0486755296587944, 0.05138608068227768]\n"
          ]
        }
      ],
      "source": [
        "print(\"Dokładność predykcji na zbiorze walidacyjnym wynosi :\", history.history['val_accuracy'])\n",
        "print(\"Dokładność predykcji na zbiorze treningowym wynosi:\", history.history['accuracy'])\n",
        "print(\"Strata na zbiorze walidacyjnym :\", history.history['val_loss'])\n",
        "print(\"Strata na zbiorze treningowym :\", history.history['loss'])"
      ]
    },
    {
      "cell_type": "code",
      "execution_count": null,
      "metadata": {
        "id": "BPTnjdyA_A_H"
      },
      "outputs": [],
      "source": []
    }
  ],
  "metadata": {
    "kernelspec": {
      "display_name": "Python 3 (ipykernel)",
      "language": "python",
      "name": "python3"
    },
    "language_info": {
      "codemirror_mode": {
        "name": "ipython",
        "version": 3
      },
      "file_extension": ".py",
      "mimetype": "text/x-python",
      "name": "python",
      "nbconvert_exporter": "python",
      "pygments_lexer": "ipython3",
      "version": "3.8.15"
    },
    "colab": {
      "provenance": []
    },
    "accelerator": "GPU",
    "gpuClass": "standard"
  },
  "nbformat": 4,
  "nbformat_minor": 0
}