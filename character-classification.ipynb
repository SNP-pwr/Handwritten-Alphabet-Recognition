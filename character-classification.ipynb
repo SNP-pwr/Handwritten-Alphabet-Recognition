{
 "cells": [
  {
   "cell_type": "markdown",
   "metadata": {},
   "source": [
    "# Importowanie bibliotek"
   ]
  },
  {
   "cell_type": "code",
   "execution_count": 22,
   "metadata": {},
   "outputs": [],
   "source": [
    "# import keras\n",
    "# import numpy as np\n",
    "# import tensorflow as tf\n",
    "# import matplotlib as plt\n",
    "# import sklearn\n",
    "\n",
    "import pandas as pd\n",
    "from sklearn.utils import shuffle\n",
    "from sklearn.model_selection import train_test_split\n",
    "from keras.utils import to_categorical\n",
    "from keras.models import Sequential\n",
    "from keras.layers import Dense, Flatten, Conv2D, MaxPool2D, Dropout\n",
    "from keras.optimizers import SGD, Adam\n",
    "import numpy as np\n",
    "import matplotlib.pyplot as plt"
   ]
  },
  {
   "cell_type": "markdown",
   "metadata": {},
   "source": [
    "# Wczytujemy zbiór danych\n"
   ]
  },
  {
   "cell_type": "code",
   "execution_count": 3,
   "metadata": {
    "execution": {
     "iopub.execute_input": "2021-09-03T22:56:10.95061Z",
     "iopub.status.busy": "2021-09-03T22:56:10.950237Z",
     "iopub.status.idle": "2021-09-03T22:56:48.135888Z",
     "shell.execute_reply": "2021-09-03T22:56:48.134874Z",
     "shell.execute_reply.started": "2021-09-03T22:56:10.950573Z"
    }
   },
   "outputs": [
    {
     "data": {
      "text/html": [
       "<div>\n",
       "<style scoped>\n",
       "    .dataframe tbody tr th:only-of-type {\n",
       "        vertical-align: middle;\n",
       "    }\n",
       "\n",
       "    .dataframe tbody tr th {\n",
       "        vertical-align: top;\n",
       "    }\n",
       "\n",
       "    .dataframe thead th {\n",
       "        text-align: right;\n",
       "    }\n",
       "</style>\n",
       "<table border=\"1\" class=\"dataframe\">\n",
       "  <thead>\n",
       "    <tr style=\"text-align: right;\">\n",
       "      <th></th>\n",
       "      <th>0</th>\n",
       "      <th>0.1</th>\n",
       "      <th>0.2</th>\n",
       "      <th>0.3</th>\n",
       "      <th>0.4</th>\n",
       "      <th>0.5</th>\n",
       "      <th>0.6</th>\n",
       "      <th>0.7</th>\n",
       "      <th>0.8</th>\n",
       "      <th>0.9</th>\n",
       "      <th>...</th>\n",
       "      <th>0.639</th>\n",
       "      <th>0.640</th>\n",
       "      <th>0.641</th>\n",
       "      <th>0.642</th>\n",
       "      <th>0.643</th>\n",
       "      <th>0.644</th>\n",
       "      <th>0.645</th>\n",
       "      <th>0.646</th>\n",
       "      <th>0.647</th>\n",
       "      <th>0.648</th>\n",
       "    </tr>\n",
       "  </thead>\n",
       "  <tbody>\n",
       "    <tr>\n",
       "      <th>0</th>\n",
       "      <td>0.0</td>\n",
       "      <td>0.0</td>\n",
       "      <td>0.0</td>\n",
       "      <td>0.0</td>\n",
       "      <td>0.0</td>\n",
       "      <td>0.0</td>\n",
       "      <td>0.0</td>\n",
       "      <td>0.0</td>\n",
       "      <td>0.0</td>\n",
       "      <td>0.0</td>\n",
       "      <td>...</td>\n",
       "      <td>0.0</td>\n",
       "      <td>0.0</td>\n",
       "      <td>0.0</td>\n",
       "      <td>0.0</td>\n",
       "      <td>0.0</td>\n",
       "      <td>0.0</td>\n",
       "      <td>0.0</td>\n",
       "      <td>0.0</td>\n",
       "      <td>0.0</td>\n",
       "      <td>0.0</td>\n",
       "    </tr>\n",
       "    <tr>\n",
       "      <th>1</th>\n",
       "      <td>0.0</td>\n",
       "      <td>0.0</td>\n",
       "      <td>0.0</td>\n",
       "      <td>0.0</td>\n",
       "      <td>0.0</td>\n",
       "      <td>0.0</td>\n",
       "      <td>0.0</td>\n",
       "      <td>0.0</td>\n",
       "      <td>0.0</td>\n",
       "      <td>0.0</td>\n",
       "      <td>...</td>\n",
       "      <td>0.0</td>\n",
       "      <td>0.0</td>\n",
       "      <td>0.0</td>\n",
       "      <td>0.0</td>\n",
       "      <td>0.0</td>\n",
       "      <td>0.0</td>\n",
       "      <td>0.0</td>\n",
       "      <td>0.0</td>\n",
       "      <td>0.0</td>\n",
       "      <td>0.0</td>\n",
       "    </tr>\n",
       "    <tr>\n",
       "      <th>2</th>\n",
       "      <td>0.0</td>\n",
       "      <td>0.0</td>\n",
       "      <td>0.0</td>\n",
       "      <td>0.0</td>\n",
       "      <td>0.0</td>\n",
       "      <td>0.0</td>\n",
       "      <td>0.0</td>\n",
       "      <td>0.0</td>\n",
       "      <td>0.0</td>\n",
       "      <td>0.0</td>\n",
       "      <td>...</td>\n",
       "      <td>0.0</td>\n",
       "      <td>0.0</td>\n",
       "      <td>0.0</td>\n",
       "      <td>0.0</td>\n",
       "      <td>0.0</td>\n",
       "      <td>0.0</td>\n",
       "      <td>0.0</td>\n",
       "      <td>0.0</td>\n",
       "      <td>0.0</td>\n",
       "      <td>0.0</td>\n",
       "    </tr>\n",
       "    <tr>\n",
       "      <th>3</th>\n",
       "      <td>0.0</td>\n",
       "      <td>0.0</td>\n",
       "      <td>0.0</td>\n",
       "      <td>0.0</td>\n",
       "      <td>0.0</td>\n",
       "      <td>0.0</td>\n",
       "      <td>0.0</td>\n",
       "      <td>0.0</td>\n",
       "      <td>0.0</td>\n",
       "      <td>0.0</td>\n",
       "      <td>...</td>\n",
       "      <td>0.0</td>\n",
       "      <td>0.0</td>\n",
       "      <td>0.0</td>\n",
       "      <td>0.0</td>\n",
       "      <td>0.0</td>\n",
       "      <td>0.0</td>\n",
       "      <td>0.0</td>\n",
       "      <td>0.0</td>\n",
       "      <td>0.0</td>\n",
       "      <td>0.0</td>\n",
       "    </tr>\n",
       "    <tr>\n",
       "      <th>4</th>\n",
       "      <td>0.0</td>\n",
       "      <td>0.0</td>\n",
       "      <td>0.0</td>\n",
       "      <td>0.0</td>\n",
       "      <td>0.0</td>\n",
       "      <td>0.0</td>\n",
       "      <td>0.0</td>\n",
       "      <td>0.0</td>\n",
       "      <td>0.0</td>\n",
       "      <td>0.0</td>\n",
       "      <td>...</td>\n",
       "      <td>0.0</td>\n",
       "      <td>0.0</td>\n",
       "      <td>0.0</td>\n",
       "      <td>0.0</td>\n",
       "      <td>0.0</td>\n",
       "      <td>0.0</td>\n",
       "      <td>0.0</td>\n",
       "      <td>0.0</td>\n",
       "      <td>0.0</td>\n",
       "      <td>0.0</td>\n",
       "    </tr>\n",
       "  </tbody>\n",
       "</table>\n",
       "<p>5 rows × 785 columns</p>\n",
       "</div>"
      ],
      "text/plain": [
       "     0  0.1  0.2  0.3  0.4  0.5  0.6  0.7  0.8  0.9  ...  0.639  0.640  0.641  \\\n",
       "0  0.0  0.0  0.0  0.0  0.0  0.0  0.0  0.0  0.0  0.0  ...    0.0    0.0    0.0   \n",
       "1  0.0  0.0  0.0  0.0  0.0  0.0  0.0  0.0  0.0  0.0  ...    0.0    0.0    0.0   \n",
       "2  0.0  0.0  0.0  0.0  0.0  0.0  0.0  0.0  0.0  0.0  ...    0.0    0.0    0.0   \n",
       "3  0.0  0.0  0.0  0.0  0.0  0.0  0.0  0.0  0.0  0.0  ...    0.0    0.0    0.0   \n",
       "4  0.0  0.0  0.0  0.0  0.0  0.0  0.0  0.0  0.0  0.0  ...    0.0    0.0    0.0   \n",
       "\n",
       "   0.642  0.643  0.644  0.645  0.646  0.647  0.648  \n",
       "0    0.0    0.0    0.0    0.0    0.0    0.0    0.0  \n",
       "1    0.0    0.0    0.0    0.0    0.0    0.0    0.0  \n",
       "2    0.0    0.0    0.0    0.0    0.0    0.0    0.0  \n",
       "3    0.0    0.0    0.0    0.0    0.0    0.0    0.0  \n",
       "4    0.0    0.0    0.0    0.0    0.0    0.0    0.0  \n",
       "\n",
       "[5 rows x 785 columns]"
      ]
     },
     "execution_count": 3,
     "metadata": {},
     "output_type": "execute_result"
    }
   ],
   "source": [
    "data = pd.read_csv(\"A_Z Handwritten Data.csv\").astype('float32')\n",
    "data.head()"
   ]
  },
  {
   "cell_type": "markdown",
   "metadata": {},
   "source": [
    "# Odzielanie etykiet od obrazu"
   ]
  },
  {
   "cell_type": "code",
   "execution_count": 4,
   "metadata": {
    "execution": {
     "iopub.execute_input": "2021-09-03T22:59:58.613134Z",
     "iopub.status.busy": "2021-09-03T22:59:58.612701Z",
     "iopub.status.idle": "2021-09-03T22:59:59.219976Z",
     "shell.execute_reply": "2021-09-03T22:59:59.219039Z",
     "shell.execute_reply.started": "2021-09-03T22:59:58.613102Z"
    }
   },
   "outputs": [
    {
     "data": {
      "text/plain": [
       "0    0.0\n",
       "1    0.0\n",
       "2    0.0\n",
       "3    0.0\n",
       "4    0.0\n",
       "Name: 0, dtype: float32"
      ]
     },
     "execution_count": 4,
     "metadata": {},
     "output_type": "execute_result"
    }
   ],
   "source": [
    "X = data.drop('0',axis = 1)\n",
    "y = data['0']\n",
    "X.head()\n",
    "y.head()"
   ]
  },
  {
   "cell_type": "markdown",
   "metadata": {},
   "source": [
    "# Reshapowanie danych testowych i treningowych do standardów CNN"
   ]
  },
  {
   "cell_type": "code",
   "execution_count": 18,
   "metadata": {
    "execution": {
     "iopub.execute_input": "2021-09-03T23:03:55.789789Z",
     "iopub.status.busy": "2021-09-03T23:03:55.789318Z",
     "iopub.status.idle": "2021-09-03T23:03:58.384025Z",
     "shell.execute_reply": "2021-09-03T23:03:58.382813Z",
     "shell.execute_reply.started": "2021-09-03T23:03:55.789746Z"
    }
   },
   "outputs": [
    {
     "name": "stdout",
     "output_type": "stream",
     "text": [
      "Wymiary treningowe przed reshapem:  (297960, 784)\n",
      "Wymiary testowe przed reshapem:  (74490, 784)\n",
      "Wymiary treningowe po reshapem:  (297960, 28, 28, 1)\n",
      "Wymiary testowe po reshapie:  (74490, 28, 28, 1)\n"
     ]
    }
   ],
   "source": [
    "X_train, X_test, Y_train, Y_test = train_test_split(X, y, test_size = 0.2)\n",
    "\n",
    "print(\"Wymiary treningowe przed reshapem: \", X_train.shape)\n",
    "print(\"Wymiary testowe przed reshapem: \", X_test.shape)\n",
    "\n",
    "X_train = np.reshape(X_train.values, (X_train.shape[0], 28, 28, 1))\n",
    "X_test = np.reshape(X_test.values, (X_test.shape[0], 28, 28, 1))\n",
    "\n",
    "print(\"Wymiary treningowe po reshapem: \", X_train.shape)\n",
    "print(\"Wymiary testowe po reshapie: \", X_test.shape)"
   ]
  },
  {
   "cell_type": "markdown",
   "metadata": {},
   "source": [
    "# Stworzenie słownika"
   ]
  },
  {
   "cell_type": "code",
   "execution_count": 6,
   "metadata": {
    "execution": {
     "iopub.execute_input": "2021-09-03T23:05:37.699759Z",
     "iopub.status.busy": "2021-09-03T23:05:37.699342Z",
     "iopub.status.idle": "2021-09-03T23:05:37.706784Z",
     "shell.execute_reply": "2021-09-03T23:05:37.705639Z",
     "shell.execute_reply.started": "2021-09-03T23:05:37.699723Z"
    }
   },
   "outputs": [],
   "source": [
    "word_dict = {0:'A',1:'B',2:'C',3:'D',4:'E',5:'F',6:'G',7:'H',8:'I',9:'J',10:'K',11:'L',12:'M',13:'N',14:'O',15:'P',16:'Q',17:'R',18:'S',19:'T',20:'U',21:'V',22:'W',23:'X', 24:'Y',25:'Z'}"
   ]
  },
  {
   "cell_type": "markdown",
   "metadata": {},
   "source": [
    "# Zamiana etykiety z pojedńczej liczby na wektor."
   ]
  },
  {
   "cell_type": "code",
   "execution_count": 19,
   "metadata": {
    "execution": {
     "iopub.execute_input": "2021-09-03T23:23:54.565813Z",
     "iopub.status.busy": "2021-09-03T23:23:54.56522Z",
     "iopub.status.idle": "2021-09-03T23:23:54.752915Z",
     "shell.execute_reply": "2021-09-03T23:23:54.751731Z",
     "shell.execute_reply.started": "2021-09-03T23:23:54.56575Z"
    }
   },
   "outputs": [
    {
     "name": "stdout",
     "output_type": "stream",
     "text": [
      "Nowy rozmiar etykiety treningowej:  (297960, 26)\n",
      "[0 0 0 0 0 0 0 0 0 0 0 0 0 0 0 1 0 0 0 0 0 0 0 0 0 0]\n",
      "Nowy rozmiar etykiety treningowej:  (74490, 26)\n"
     ]
    }
   ],
   "source": [
    "train_yOHE = to_categorical(Y_train, num_classes = 26, dtype='int')\n",
    "print(\"Nowy rozmiar etykiety treningowej: \", train_yOHE.shape)\n",
    "\n",
    "test_yOHE = to_categorical(Y_test, num_classes = 26, dtype='int')\n",
    "print(\"Nowy rozmiar etykiety treningowej: \", test_yOHE.shape)"
   ]
  },
  {
   "cell_type": "markdown",
   "metadata": {},
   "source": [
    "# Tworzenie CNN"
   ]
  },
  {
   "cell_type": "code",
   "execution_count": 23,
   "metadata": {
    "execution": {
     "iopub.execute_input": "2021-09-03T23:29:14.489705Z",
     "iopub.status.busy": "2021-09-03T23:29:14.489291Z",
     "iopub.status.idle": "2021-09-03T23:29:14.667035Z",
     "shell.execute_reply": "2021-09-03T23:29:14.666001Z",
     "shell.execute_reply.started": "2021-09-03T23:29:14.489672Z"
    }
   },
   "outputs": [],
   "source": [
    "model = Sequential()\n",
    "#CNN\n",
    "# input -> conv -> maxpool -> conv -> maxpool ......->flattened vector-> \n",
    "#.                        hidden layer -> hidden layer -> softmax layer\n",
    "\n",
    "#Wyciągamy cechy z obrazu, a następnie zmniejszamy jego rozmiar czterokrotnie. Filtry zwiększają się dwukrotnie, bo zapisujemy\n",
    "#z każdym krokiem więcej cech.\n",
    "model.add(Conv2D(filters=32, kernel_size=(3, 3), activation='relu', input_shape=(28,28,1)))\n",
    "model.add(MaxPool2D(pool_size=(2, 2), strides=2))\n",
    "\n",
    "model.add(Conv2D(filters=64, kernel_size=(3, 3), activation='relu', padding = 'same'))\n",
    "model.add(MaxPool2D(pool_size=(2, 2), strides=2))\n",
    "\n",
    "\n",
    "#Spłaszczamy dane, by przygotować je do faktycznej klasyfikacji\n",
    "model.add(Flatten())\n",
    "\n",
    "model.add(Dense(64,activation =\"relu\"))\n",
    "model.add(Dense(128,activation =\"relu\"))\n",
    "\n",
    "model.add(Dense(26,activation =\"softmax\"))"
   ]
  },
  {
   "cell_type": "markdown",
   "metadata": {},
   "source": [
    "# Kompilacja i trening CNN"
   ]
  },
  {
   "cell_type": "code",
   "execution_count": 24,
   "metadata": {
    "execution": {
     "iopub.execute_input": "2021-09-03T23:30:04.679896Z",
     "iopub.status.busy": "2021-09-03T23:30:04.679472Z",
     "iopub.status.idle": "2021-09-03T23:34:03.824706Z",
     "shell.execute_reply": "2021-09-03T23:34:03.823212Z",
     "shell.execute_reply.started": "2021-09-03T23:30:04.679859Z"
    }
   },
   "outputs": [
    {
     "name": "stdout",
     "output_type": "stream",
     "text": [
      "Epoch 1/5\n",
      "9312/9312 [==============================] - 127s 14ms/step - loss: 0.1960 - accuracy: 0.9459 - val_loss: 0.0960 - val_accuracy: 0.9733\n",
      "Epoch 2/5\n",
      "9312/9312 [==============================] - 129s 14ms/step - loss: 0.0838 - accuracy: 0.9761 - val_loss: 0.0737 - val_accuracy: 0.9799\n",
      "Epoch 3/5\n",
      "9312/9312 [==============================] - 132s 14ms/step - loss: 0.0676 - accuracy: 0.9811 - val_loss: 0.0683 - val_accuracy: 0.9819\n",
      "Epoch 4/5\n",
      "9312/9312 [==============================] - 130s 14ms/step - loss: 0.0598 - accuracy: 0.9834 - val_loss: 0.0719 - val_accuracy: 0.9806\n",
      "Epoch 5/5\n",
      "9312/9312 [==============================] - 133s 14ms/step - loss: 0.0541 - accuracy: 0.9850 - val_loss: 0.0634 - val_accuracy: 0.9834\n"
     ]
    }
   ],
   "source": [
    "model.compile(optimizer = Adam(learning_rate=0.001), loss='categorical_crossentropy', metrics=['accuracy'])\n",
    "\n",
    "history = model.fit(X_train, train_yOHE, epochs=5,  validation_data = (X_test,test_yOHE))"
   ]
  },
  {
   "cell_type": "markdown",
   "metadata": {},
   "source": [
    "# Zapis model i jego spis"
   ]
  },
  {
   "cell_type": "code",
   "execution_count": 25,
   "metadata": {
    "execution": {
     "iopub.execute_input": "2021-09-03T23:35:07.72437Z",
     "iopub.status.busy": "2021-09-03T23:35:07.723587Z",
     "iopub.status.idle": "2021-09-03T23:35:07.823704Z",
     "shell.execute_reply": "2021-09-03T23:35:07.822256Z",
     "shell.execute_reply.started": "2021-09-03T23:35:07.724289Z"
    }
   },
   "outputs": [
    {
     "name": "stdout",
     "output_type": "stream",
     "text": [
      "Model: \"sequential_1\"\n",
      "_________________________________________________________________\n",
      " Layer (type)                Output Shape              Param #   \n",
      "=================================================================\n",
      " conv2d_3 (Conv2D)           (None, 26, 26, 32)        320       \n",
      "                                                                 \n",
      " max_pooling2d_3 (MaxPooling  (None, 13, 13, 32)       0         \n",
      " 2D)                                                             \n",
      "                                                                 \n",
      " conv2d_4 (Conv2D)           (None, 13, 13, 64)        18496     \n",
      "                                                                 \n",
      " max_pooling2d_4 (MaxPooling  (None, 6, 6, 64)         0         \n",
      " 2D)                                                             \n",
      "                                                                 \n",
      " flatten_1 (Flatten)         (None, 2304)              0         \n",
      "                                                                 \n",
      " dense_3 (Dense)             (None, 64)                147520    \n",
      "                                                                 \n",
      " dense_4 (Dense)             (None, 128)               8320      \n",
      "                                                                 \n",
      " dense_5 (Dense)             (None, 26)                3354      \n",
      "                                                                 \n",
      "=================================================================\n",
      "Total params: 178,010\n",
      "Trainable params: 178,010\n",
      "Non-trainable params: 0\n",
      "_________________________________________________________________\n"
     ]
    }
   ],
   "source": [
    "model.summary()\n",
    "model.save(r'model_hand2.h5')"
   ]
  },
  {
   "cell_type": "code",
   "execution_count": 20,
   "metadata": {
    "execution": {
     "iopub.execute_input": "2021-09-03T23:35:40.723653Z",
     "iopub.status.busy": "2021-09-03T23:35:40.723278Z",
     "iopub.status.idle": "2021-09-03T23:35:40.73372Z",
     "shell.execute_reply": "2021-09-03T23:35:40.731974Z",
     "shell.execute_reply.started": "2021-09-03T23:35:40.723615Z"
    }
   },
   "outputs": [
    {
     "name": "stdout",
     "output_type": "stream",
     "text": [
      "Dokładność predykcji na zbiorze walidacyjnym wynosi : [0.9848436117172241, 0.986374020576477, 0.9859444499015808, 0.9841321110725403, 0.9848570227622986]\n",
      "Dokładność predykcji na zbiorze treningowym wynosi: [0.9866156578063965, 0.9872230887413025, 0.9877634644508362, 0.9880118370056152, 0.9879010319709778]\n",
      "Strata na zbiorze walidacyjnym : [0.06463632732629776, 0.06621440500020981, 0.0642656683921814, 0.07897284626960754, 0.07789570838212967]\n",
      "Strata na zbiorze treningowym : [0.05313950777053833, 0.05218150094151497, 0.05057717114686966, 0.0486755296587944, 0.05138608068227768]\n"
     ]
    }
   ],
   "source": [
    "print(\"Dokładność predykcji na zbiorze walidacyjnym wynosi :\", history.history['val_accuracy'])\n",
    "print(\"Dokładność predykcji na zbiorze treningowym wynosi:\", history.history['accuracy'])\n",
    "print(\"Strata na zbiorze walidacyjnym :\", history.history['val_loss'])\n",
    "print(\"Strata na zbiorze treningowym :\", history.history['loss'])"
   ]
  },
  {
   "cell_type": "code",
   "execution_count": null,
   "metadata": {},
   "outputs": [],
   "source": []
  }
 ],
 "metadata": {
  "kernelspec": {
   "display_name": "Python 3 (ipykernel)",
   "language": "python",
   "name": "python3"
  },
  "language_info": {
   "codemirror_mode": {
    "name": "ipython",
    "version": 3
   },
   "file_extension": ".py",
   "mimetype": "text/x-python",
   "name": "python",
   "nbconvert_exporter": "python",
   "pygments_lexer": "ipython3",
   "version": "3.8.15"
  }
 },
 "nbformat": 4,
 "nbformat_minor": 4
}
