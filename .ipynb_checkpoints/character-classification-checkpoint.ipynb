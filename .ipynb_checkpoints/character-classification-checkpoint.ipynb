{
 "cells": [
  {
   "cell_type": "markdown",
   "metadata": {},
   "source": [
    "# Importing Necessary Libraries"
   ]
  },
  {
   "cell_type": "code",
   "execution_count": 18,
   "metadata": {},
   "outputs": [],
   "source": [
    "# import keras\n",
    "# import numpy as np\n",
    "# import tensorflow as tf\n",
    "# import matplotlib as plt\n",
    "# import matplotlib.pyplot as plt\n",
    "# import sklearn\n",
    "\n",
    "import pandas as pd\n",
    "from sklearn.utils import shuffle\n",
    "from sklearn.model_selection import train_test_split\n",
    "from keras.utils import to_categorical\n",
    "from keras.models import Sequential\n",
    "from keras.layers import Dense, Flatten, Conv2D, MaxPool2D, Dropout\n",
    "from keras.optimizers import SGD, Adam"
   ]
  },
  {
   "cell_type": "markdown",
   "metadata": {},
   "source": [
    "# Read The Dataset\n"
   ]
  },
  {
   "cell_type": "code",
   "execution_count": 25,
   "metadata": {
    "execution": {
     "iopub.execute_input": "2021-09-03T22:56:10.95061Z",
     "iopub.status.busy": "2021-09-03T22:56:10.950237Z",
     "iopub.status.idle": "2021-09-03T22:56:48.135888Z",
     "shell.execute_reply": "2021-09-03T22:56:48.134874Z",
     "shell.execute_reply.started": "2021-09-03T22:56:10.950573Z"
    }
   },
   "outputs": [],
   "source": [
    "data = pd.read_csv(r'<path_to_dataset>')\n",
    "# data.head()"
   ]
  },
  {
   "cell_type": "markdown",
   "metadata": {},
   "source": [
    "# Splitting Dataset into Labels and Images"
   ]
  },
  {
   "cell_type": "code",
   "execution_count": 27,
   "metadata": {
    "execution": {
     "iopub.execute_input": "2021-09-03T22:59:58.613134Z",
     "iopub.status.busy": "2021-09-03T22:59:58.612701Z",
     "iopub.status.idle": "2021-09-03T22:59:59.219976Z",
     "shell.execute_reply": "2021-09-03T22:59:59.219039Z",
     "shell.execute_reply.started": "2021-09-03T22:59:58.613102Z"
    }
   },
   "outputs": [],
   "source": [
    "X = data.drop('0',axis = 1) # axis=1 for dropping column\n",
    "y = data['0']\n",
    "# X.head()\n",
    "# y.head()"
   ]
  },
  {
   "cell_type": "markdown",
   "metadata": {},
   "source": [
    "# Reshaping the data to display it as image and splitting the Dataset as Test and Train data"
   ]
  },
  {
   "cell_type": "code",
   "execution_count": 28,
   "metadata": {
    "execution": {
     "iopub.execute_input": "2021-09-03T23:03:55.789789Z",
     "iopub.status.busy": "2021-09-03T23:03:55.789318Z",
     "iopub.status.idle": "2021-09-03T23:03:58.384025Z",
     "shell.execute_reply": "2021-09-03T23:03:58.382813Z",
     "shell.execute_reply.started": "2021-09-03T23:03:55.789746Z"
    }
   },
   "outputs": [
    {
     "name": "stdout",
     "output_type": "stream",
     "text": [
      "Shape of train data:  (74490, 28, 28)\n",
      "Shape of test data:  (74490, 28, 28)\n"
     ]
    }
   ],
   "source": [
    "X_train, X_test, Y_train, Y_test = train_test_split(X, y, test_size = 0.2)\n",
    "\n",
    "X_train = np.reshape(X_train.values, (X_train.shape[0], 28,28))\n",
    "X_test = np.reshape(X_test.values, (X_test.shape[0], 28,28)) #0=> B&W, 28x28 matrix\n",
    "\n",
    "print(\"Shape of train data: \", X_test.shape)\n",
    "print(\"Shape of test data: \", X_test.shape)"
   ]
  },
  {
   "cell_type": "markdown",
   "metadata": {},
   "source": [
    "# Creating dictionary of column number to corresponding letter"
   ]
  },
  {
   "cell_type": "code",
   "execution_count": 29,
   "metadata": {
    "execution": {
     "iopub.execute_input": "2021-09-03T23:05:37.699759Z",
     "iopub.status.busy": "2021-09-03T23:05:37.699342Z",
     "iopub.status.idle": "2021-09-03T23:05:37.706784Z",
     "shell.execute_reply": "2021-09-03T23:05:37.705639Z",
     "shell.execute_reply.started": "2021-09-03T23:05:37.699723Z"
    }
   },
   "outputs": [],
   "source": [
    "word_dict = {0:'A',1:'B',2:'C',3:'D',4:'E',5:'F',6:'G',7:'H',8:'I',9:'J',10:'K',11:'L',12:'M',13:'N',14:'O',15:'P',16:'Q',17:'R',18:'S',19:'T',20:'U',21:'V',22:'W',23:'X', 24:'Y',25:'Z'}"
   ]
  },
  {
   "cell_type": "markdown",
   "metadata": {},
   "source": [
    "# Reshaping data to feed to CNN"
   ]
  },
  {
   "cell_type": "code",
   "execution_count": 30,
   "metadata": {
    "execution": {
     "iopub.execute_input": "2021-09-03T23:21:16.463991Z",
     "iopub.status.busy": "2021-09-03T23:21:16.463574Z",
     "iopub.status.idle": "2021-09-03T23:21:16.4731Z",
     "shell.execute_reply": "2021-09-03T23:21:16.471625Z",
     "shell.execute_reply.started": "2021-09-03T23:21:16.463958Z"
    }
   },
   "outputs": [
    {
     "name": "stdout",
     "output_type": "stream",
     "text": [
      "New shape of train data:  (297960, 28, 28, 1)\n",
      "New shape of test data:  (74490, 28, 28, 1)\n"
     ]
    }
   ],
   "source": [
    "shuff = shuffle(X_train[:100])\n",
    "\n",
    "X_train = X_train.reshape(X_train.shape[0],X_train.shape[1],X_train.shape[2],1) #RGB =>Channel of 1\n",
    "print(\"New shape of train data: \", X_train.shape)\n",
    "\n",
    "X_test = X_test.reshape(X_test.shape[0], X_test.shape[1], X_test.shape[2],1) #RGB =>Channel of 1\n",
    "print(\"New shape of test data: \", X_test.shape)"
   ]
  },
  {
   "cell_type": "markdown",
   "metadata": {},
   "source": [
    "# Converting Single float value to Categorical Values"
   ]
  },
  {
   "cell_type": "code",
   "execution_count": 31,
   "metadata": {
    "execution": {
     "iopub.execute_input": "2021-09-03T23:23:54.565813Z",
     "iopub.status.busy": "2021-09-03T23:23:54.56522Z",
     "iopub.status.idle": "2021-09-03T23:23:54.752915Z",
     "shell.execute_reply": "2021-09-03T23:23:54.751731Z",
     "shell.execute_reply.started": "2021-09-03T23:23:54.56575Z"
    }
   },
   "outputs": [
    {
     "name": "stdout",
     "output_type": "stream",
     "text": [
      "New shape of train labels:  (297960, 26)\n",
      "New shape of test labels:  (74490, 26)\n"
     ]
    }
   ],
   "source": [
    "train_yOHE = to_categorical(Y_train, num_classes = 26, dtype='int')\n",
    "print(\"New shape of train labels: \", train_yOHE.shape)\n",
    "\n",
    "test_yOHE = to_categorical(Y_test, num_classes = 26, dtype='int')\n",
    "print(\"New shape of test labels: \", test_yOHE.shape)"
   ]
  },
  {
   "cell_type": "markdown",
   "metadata": {},
   "source": [
    "# Building CNN Model"
   ]
  },
  {
   "cell_type": "code",
   "execution_count": 32,
   "metadata": {
    "execution": {
     "iopub.execute_input": "2021-09-03T23:29:14.489705Z",
     "iopub.status.busy": "2021-09-03T23:29:14.489291Z",
     "iopub.status.idle": "2021-09-03T23:29:14.667035Z",
     "shell.execute_reply": "2021-09-03T23:29:14.666001Z",
     "shell.execute_reply.started": "2021-09-03T23:29:14.489672Z"
    }
   },
   "outputs": [],
   "source": [
    "model = Sequential()\n",
    "#CNN\n",
    "# input -> conv -> maxpool -> conv -> maxpool ......->flattened vector-> \n",
    "#.                        hidden layer -> hidden layer -> softmax layer\n",
    "model.add(Conv2D(filters=32, kernel_size=(3, 3), activation='relu', input_shape=(28,28,1)))\n",
    "model.add(MaxPool2D(pool_size=(2, 2), strides=2))\n",
    "\n",
    "model.add(Conv2D(filters=64, kernel_size=(3, 3), activation='relu', padding = 'same'))\n",
    "model.add(MaxPool2D(pool_size=(2, 2), strides=2))\n",
    "\n",
    "model.add(Conv2D(filters=128, kernel_size=(3, 3), activation='relu', padding = 'valid'))\n",
    "model.add(MaxPool2D(pool_size=(2, 2), strides=2))\n",
    "\n",
    "model.add(Flatten())\n",
    "\n",
    "model.add(Dense(64,activation =\"relu\"))\n",
    "model.add(Dense(128,activation =\"relu\"))\n",
    "\n",
    "model.add(Dense(26,activation =\"softmax\"))"
   ]
  },
  {
   "cell_type": "markdown",
   "metadata": {},
   "source": [
    "# Compiling and Training the CNN"
   ]
  },
  {
   "cell_type": "code",
   "execution_count": 33,
   "metadata": {
    "execution": {
     "iopub.execute_input": "2021-09-03T23:30:04.679896Z",
     "iopub.status.busy": "2021-09-03T23:30:04.679472Z",
     "iopub.status.idle": "2021-09-03T23:34:03.824706Z",
     "shell.execute_reply": "2021-09-03T23:34:03.823212Z",
     "shell.execute_reply.started": "2021-09-03T23:30:04.679859Z"
    }
   },
   "outputs": [
    {
     "name": "stdout",
     "output_type": "stream",
     "text": [
      "9312/9312 [==============================] - 420s 45ms/step - loss: 0.1656 - accuracy: 0.9537 - val_loss: 0.0913 - val_accuracy: 0.9744\n"
     ]
    }
   ],
   "source": [
    "model.compile(optimizer = Adam(learning_rate=0.001), loss='categorical_crossentropy', metrics=['accuracy'])\n",
    "\n",
    "history = model.fit(X_train, train_yOHE, epochs=1,  validation_data = (X_test,test_yOHE))"
   ]
  },
  {
   "cell_type": "markdown",
   "metadata": {},
   "source": [
    "# Printing Model Summary"
   ]
  },
  {
   "cell_type": "code",
   "execution_count": 34,
   "metadata": {
    "execution": {
     "iopub.execute_input": "2021-09-03T23:35:07.72437Z",
     "iopub.status.busy": "2021-09-03T23:35:07.723587Z",
     "iopub.status.idle": "2021-09-03T23:35:07.823704Z",
     "shell.execute_reply": "2021-09-03T23:35:07.822256Z",
     "shell.execute_reply.started": "2021-09-03T23:35:07.724289Z"
    }
   },
   "outputs": [],
   "source": [
    "# model.summary()\n",
    "# model.save(r'model_hand.h5')"
   ]
  },
  {
   "cell_type": "code",
   "execution_count": 35,
   "metadata": {
    "execution": {
     "iopub.execute_input": "2021-09-03T23:35:40.723653Z",
     "iopub.status.busy": "2021-09-03T23:35:40.723278Z",
     "iopub.status.idle": "2021-09-03T23:35:40.73372Z",
     "shell.execute_reply": "2021-09-03T23:35:40.731974Z",
     "shell.execute_reply.started": "2021-09-03T23:35:40.723615Z"
    }
   },
   "outputs": [
    {
     "name": "stdout",
     "output_type": "stream",
     "text": [
      "The validation accuracy is : [0.974372386932373]\n",
      "The training accuracy is : [0.9536682963371277]\n",
      "The validation loss is : [0.09133705496788025]\n",
      "The training loss is : [0.16562502086162567]\n"
     ]
    }
   ],
   "source": [
    "print(\"The validation accuracy is :\", history.history['val_accuracy'])\n",
    "print(\"The training accuracy is :\", history.history['accuracy'])\n",
    "print(\"The validation loss is :\", history.history['val_loss'])\n",
    "print(\"The training loss is :\", history.history['loss'])"
   ]
  },
  {
   "cell_type": "markdown",
   "metadata": {},
   "source": [
    "# Making Predictions"
   ]
  },
  {
   "cell_type": "code",
   "execution_count": 38,
   "metadata": {
    "execution": {
     "iopub.execute_input": "2021-09-03T23:37:28.191912Z",
     "iopub.status.busy": "2021-09-03T23:37:28.191377Z",
     "iopub.status.idle": "2021-09-03T23:37:29.427409Z",
     "shell.execute_reply": "2021-09-03T23:37:29.426081Z",
     "shell.execute_reply.started": "2021-09-03T23:37:28.191866Z"
    },
    "scrolled": true
   },
   "outputs": [
    {
     "data": {
      "image/png": "[encoded data removed]",
      "text/plain": [
       "<Figure size 800x900 with 9 Axes>"
      ]
     },
     "metadata": {},
     "output_type": "display_data"
    }
   ],
   "source": [
    "fig, axes = plt.subplots(3,3, figsize=(8,9))\n",
    "axes = axes.flatten()\n",
    "\n",
    "for i,ax in enumerate(axes):\n",
    "    img = np.reshape(X_test[i], (28,28))# reshaping it for displaying\n",
    "    ax.imshow(img, cmap=\"Greys\")\n",
    "    \n",
    "    pred = word_dict[np.argmax(test_yOHE[i])]\n",
    "#     img_final =np.reshape(img, (1,28,28,1)) # reshapng it for passing into model for prediction\n",
    "#     pred = word_dict[np.argmax(model.predict(img_final))]\n",
    "    \n",
    "    ax.set_title(\"Prediction: \"+pred)\n",
    "    ax.grid()"
   ]
  },
  {
   "cell_type": "code",
   "execution_count": null,
   "metadata": {},
   "outputs": [],
   "source": []
  }
 ],
 "metadata": {
  "kernelspec": {
   "display_name": "Python 3",
   "language": "python",
   "name": "python3"
  },
  "language_info": {
   "codemirror_mode": {
    "name": "ipython",
    "version": 3
   },
   "file_extension": ".py",
   "mimetype": "text/x-python",
   "name": "python",
   "nbconvert_exporter": "python",
   "pygments_lexer": "ipython3",
   "version": "3.8.5"
  }
 },
 "nbformat": 4,
 "nbformat_minor": 4
}
